{
 "cells": [
  {
   "cell_type": "markdown",
   "metadata": {},
   "source": [
    "# Load Prediction Using LSTM (RNN)"
   ]
  },
  {
   "cell_type": "markdown",
   "metadata": {},
   "source": [
    "## Exracting specific colums from rawdata"
   ]
  },
  {
   "cell_type": "code",
   "execution_count": 1,
   "metadata": {},
   "outputs": [
    {
     "name": "stdout",
     "output_type": "stream",
     "text": [
      "          utc_timestamp  AT_load_actual_entsoe_transparency  \\\n",
      "0  2014-12-31T23:00:00Z                                 NaN   \n",
      "1  2015-01-01T00:00:00Z                              5946.0   \n",
      "2  2015-01-01T01:00:00Z                              5726.0   \n",
      "3  2015-01-01T02:00:00Z                              5347.0   \n",
      "4  2015-01-01T03:00:00Z                              5249.0   \n",
      "\n",
      "   AT_price_day_ahead  \n",
      "0                 NaN  \n",
      "1                35.0  \n",
      "2                45.0  \n",
      "3                41.0  \n",
      "4                38.0  \n"
     ]
    }
   ],
   "source": [
    "import pandas as pd\n",
    "\n",
    "df = pd.read_csv(\"rawdata.csv\"  ,usecols = ['utc_timestamp','AT_load_actual_entsoe_transparency','AT_price_day_ahead'])\n",
    "df1 = pd.read_csv(\"rawdata.csv\"  ,usecols = ['utc_timestamp','AT_load_actual_entsoe_transparency'])\n",
    "\n",
    "print(df.head(5))\n",
    "\n",
    "df = df.dropna()\n",
    "\n",
    "df.to_csv(\"rawdatasimple.csv\", index = False)\n",
    "df1.to_csv(\"rawdatasimple1.csv\", index = False)"
   ]
  },
  {
   "cell_type": "markdown",
   "metadata": {},
   "source": [
    "## Adding Week Names"
   ]
  },
  {
   "cell_type": "code",
   "execution_count": 2,
   "metadata": {},
   "outputs": [],
   "source": [
    "asd = open(\"rawdatasimple.csv\", \"r\").readlines()\n",
    "bsd = open(\"outp2.csv\", \"w\")\n",
    "\n",
    "\n",
    "import datetime\n",
    "\n",
    "for line in asd:\n",
    "\n",
    "    try:\n",
    "        date = line.split(\"T\")[0]\n",
    "\n",
    "        year, month, day = date.split('-')\n",
    "        day_name = datetime.date(int(year), int(month), int(day))\n",
    "        day_str = day_name.strftime(\"%A\")\n",
    "\n",
    "        if line.__contains__(\"T16\") or line.__contains__(\"T17\") or line.__contains__(\"T18\") or line.__contains__(\"T19\"):\n",
    "            bsd.write(line.replace(\"\\n\", \"\") + \",\" + day_str + \"\\n\")\n",
    "\n",
    "        else:\n",
    "            bsd.write(line.replace(\"\\n\", \"\") + \",\" + day_str + \"\\n\")\n",
    "\n",
    "    except:\n",
    "        pass"
   ]
  },
  {
   "cell_type": "markdown",
   "metadata": {},
   "source": [
    "## Adding new Coloumn to map Peek Hours"
   ]
  },
  {
   "cell_type": "code",
   "execution_count": 3,
   "metadata": {},
   "outputs": [],
   "source": [
    "asd = open(\"outp2.csv\", \"r\").readlines()\n",
    "bsd = open(\"outp3.csv\", \"w\")\n",
    "bsd.write(\"Date,Total_ALoad,Price_day_ahead,days,hour_type\\n\")\n",
    "\n",
    "for line in asd:\n",
    "\n",
    "    if not (line.__contains__(\"Saturday\") or line.__contains__(\"Sunday\")):\n",
    "\n",
    "        if line.__contains__(\"T16\") or line.__contains__(\"T17\") or line.__contains__(\"T18\") or line.__contains__(\"T19\") :\n",
    "            bsd.write(line.replace(\"\\n\", \"\") + \",1\\n\")\n",
    "        else:\n",
    "            bsd.write(line.replace(\"\\n\", \"\") + \",0\\n\")\n",
    "\n",
    "    else:\n",
    "        bsd.write(line.replace(\"\\n\", \"\") + \",0\\n\")\n"
   ]
  },
  {
   "cell_type": "markdown",
   "metadata": {},
   "source": [
    "## Removing Redundant Coloumn and saving final dataset"
   ]
  },
  {
   "cell_type": "code",
   "execution_count": 4,
   "metadata": {},
   "outputs": [],
   "source": [
    "import pandas as pd\n",
    "\n",
    "df = pd.read_csv(\"outp3.csv\")\n",
    "del df['days']\n",
    "\n",
    "df.to_csv(\"final_data.csv\",index=False)\n"
   ]
  },
  {
   "cell_type": "code",
   "execution_count": 5,
   "metadata": {},
   "outputs": [
    {
     "data": {
      "text/html": [
       "<div>\n",
       "<style scoped>\n",
       "    .dataframe tbody tr th:only-of-type {\n",
       "        vertical-align: middle;\n",
       "    }\n",
       "\n",
       "    .dataframe tbody tr th {\n",
       "        vertical-align: top;\n",
       "    }\n",
       "\n",
       "    .dataframe thead th {\n",
       "        text-align: right;\n",
       "    }\n",
       "</style>\n",
       "<table border=\"1\" class=\"dataframe\">\n",
       "  <thead>\n",
       "    <tr style=\"text-align: right;\">\n",
       "      <th></th>\n",
       "      <th>utc_timestamp</th>\n",
       "      <th>AT_load_actual_entsoe_transparency</th>\n",
       "    </tr>\n",
       "  </thead>\n",
       "  <tbody>\n",
       "    <tr>\n",
       "      <th>1</th>\n",
       "      <td>2015-01-01T00:00:00Z</td>\n",
       "      <td>5946.0</td>\n",
       "    </tr>\n",
       "    <tr>\n",
       "      <th>2</th>\n",
       "      <td>2015-01-01T01:00:00Z</td>\n",
       "      <td>5726.0</td>\n",
       "    </tr>\n",
       "    <tr>\n",
       "      <th>3</th>\n",
       "      <td>2015-01-01T02:00:00Z</td>\n",
       "      <td>5347.0</td>\n",
       "    </tr>\n",
       "    <tr>\n",
       "      <th>4</th>\n",
       "      <td>2015-01-01T03:00:00Z</td>\n",
       "      <td>5249.0</td>\n",
       "    </tr>\n",
       "    <tr>\n",
       "      <th>5</th>\n",
       "      <td>2015-01-01T04:00:00Z</td>\n",
       "      <td>5309.0</td>\n",
       "    </tr>\n",
       "    <tr>\n",
       "      <th>...</th>\n",
       "      <td>...</td>\n",
       "      <td>...</td>\n",
       "    </tr>\n",
       "    <tr>\n",
       "      <th>50396</th>\n",
       "      <td>2020-09-30T19:00:00Z</td>\n",
       "      <td>6661.0</td>\n",
       "    </tr>\n",
       "    <tr>\n",
       "      <th>50397</th>\n",
       "      <td>2020-09-30T20:00:00Z</td>\n",
       "      <td>6336.0</td>\n",
       "    </tr>\n",
       "    <tr>\n",
       "      <th>50398</th>\n",
       "      <td>2020-09-30T21:00:00Z</td>\n",
       "      <td>5932.0</td>\n",
       "    </tr>\n",
       "    <tr>\n",
       "      <th>50399</th>\n",
       "      <td>2020-09-30T22:00:00Z</td>\n",
       "      <td>5628.0</td>\n",
       "    </tr>\n",
       "    <tr>\n",
       "      <th>50400</th>\n",
       "      <td>2020-09-30T23:00:00Z</td>\n",
       "      <td>5395.0</td>\n",
       "    </tr>\n",
       "  </tbody>\n",
       "</table>\n",
       "<p>50400 rows × 2 columns</p>\n",
       "</div>"
      ],
      "text/plain": [
       "              utc_timestamp  AT_load_actual_entsoe_transparency\n",
       "1      2015-01-01T00:00:00Z                              5946.0\n",
       "2      2015-01-01T01:00:00Z                              5726.0\n",
       "3      2015-01-01T02:00:00Z                              5347.0\n",
       "4      2015-01-01T03:00:00Z                              5249.0\n",
       "5      2015-01-01T04:00:00Z                              5309.0\n",
       "...                     ...                                 ...\n",
       "50396  2020-09-30T19:00:00Z                              6661.0\n",
       "50397  2020-09-30T20:00:00Z                              6336.0\n",
       "50398  2020-09-30T21:00:00Z                              5932.0\n",
       "50399  2020-09-30T22:00:00Z                              5628.0\n",
       "50400  2020-09-30T23:00:00Z                              5395.0\n",
       "\n",
       "[50400 rows x 2 columns]"
      ]
     },
     "execution_count": 5,
     "metadata": {},
     "output_type": "execute_result"
    }
   ],
   "source": [
    "df1 = pd.read_csv(\"rawdatasimple1.csv\")\n",
    "df1 = df1.dropna()\n",
    "df1"
   ]
  },
  {
   "cell_type": "markdown",
   "metadata": {},
   "source": [
    "## Converting TimeStamp into multiple coloums"
   ]
  },
  {
   "cell_type": "code",
   "execution_count": 6,
   "metadata": {},
   "outputs": [
    {
     "data": {
      "text/html": [
       "<div>\n",
       "<style scoped>\n",
       "    .dataframe tbody tr th:only-of-type {\n",
       "        vertical-align: middle;\n",
       "    }\n",
       "\n",
       "    .dataframe tbody tr th {\n",
       "        vertical-align: top;\n",
       "    }\n",
       "\n",
       "    .dataframe thead th {\n",
       "        text-align: right;\n",
       "    }\n",
       "</style>\n",
       "<table border=\"1\" class=\"dataframe\">\n",
       "  <thead>\n",
       "    <tr style=\"text-align: right;\">\n",
       "      <th></th>\n",
       "      <th>AT_load_actual_entsoe_transparency</th>\n",
       "      <th>Month</th>\n",
       "      <th>Year</th>\n",
       "      <th>Date</th>\n",
       "      <th>Time</th>\n",
       "      <th>Week</th>\n",
       "      <th>Day</th>\n",
       "    </tr>\n",
       "    <tr>\n",
       "      <th>utc_timestamp</th>\n",
       "      <th></th>\n",
       "      <th></th>\n",
       "      <th></th>\n",
       "      <th></th>\n",
       "      <th></th>\n",
       "      <th></th>\n",
       "      <th></th>\n",
       "    </tr>\n",
       "  </thead>\n",
       "  <tbody>\n",
       "    <tr>\n",
       "      <th>2015-01-01 00:00:00+00:00</th>\n",
       "      <td>5946.0</td>\n",
       "      <td>1</td>\n",
       "      <td>2015</td>\n",
       "      <td>2015-01-01</td>\n",
       "      <td>00:00:00</td>\n",
       "      <td>1</td>\n",
       "      <td>Thursday</td>\n",
       "    </tr>\n",
       "    <tr>\n",
       "      <th>2015-01-01 01:00:00+00:00</th>\n",
       "      <td>5726.0</td>\n",
       "      <td>1</td>\n",
       "      <td>2015</td>\n",
       "      <td>2015-01-01</td>\n",
       "      <td>01:00:00</td>\n",
       "      <td>1</td>\n",
       "      <td>Thursday</td>\n",
       "    </tr>\n",
       "    <tr>\n",
       "      <th>2015-01-01 02:00:00+00:00</th>\n",
       "      <td>5347.0</td>\n",
       "      <td>1</td>\n",
       "      <td>2015</td>\n",
       "      <td>2015-01-01</td>\n",
       "      <td>02:00:00</td>\n",
       "      <td>1</td>\n",
       "      <td>Thursday</td>\n",
       "    </tr>\n",
       "    <tr>\n",
       "      <th>2015-01-01 03:00:00+00:00</th>\n",
       "      <td>5249.0</td>\n",
       "      <td>1</td>\n",
       "      <td>2015</td>\n",
       "      <td>2015-01-01</td>\n",
       "      <td>03:00:00</td>\n",
       "      <td>1</td>\n",
       "      <td>Thursday</td>\n",
       "    </tr>\n",
       "    <tr>\n",
       "      <th>2015-01-01 04:00:00+00:00</th>\n",
       "      <td>5309.0</td>\n",
       "      <td>1</td>\n",
       "      <td>2015</td>\n",
       "      <td>2015-01-01</td>\n",
       "      <td>04:00:00</td>\n",
       "      <td>1</td>\n",
       "      <td>Thursday</td>\n",
       "    </tr>\n",
       "  </tbody>\n",
       "</table>\n",
       "</div>"
      ],
      "text/plain": [
       "                           AT_load_actual_entsoe_transparency  Month  Year  \\\n",
       "utc_timestamp                                                                \n",
       "2015-01-01 00:00:00+00:00                              5946.0      1  2015   \n",
       "2015-01-01 01:00:00+00:00                              5726.0      1  2015   \n",
       "2015-01-01 02:00:00+00:00                              5347.0      1  2015   \n",
       "2015-01-01 03:00:00+00:00                              5249.0      1  2015   \n",
       "2015-01-01 04:00:00+00:00                              5309.0      1  2015   \n",
       "\n",
       "                                 Date      Time  Week       Day  \n",
       "utc_timestamp                                                    \n",
       "2015-01-01 00:00:00+00:00  2015-01-01  00:00:00     1  Thursday  \n",
       "2015-01-01 01:00:00+00:00  2015-01-01  01:00:00     1  Thursday  \n",
       "2015-01-01 02:00:00+00:00  2015-01-01  02:00:00     1  Thursday  \n",
       "2015-01-01 03:00:00+00:00  2015-01-01  03:00:00     1  Thursday  \n",
       "2015-01-01 04:00:00+00:00  2015-01-01  04:00:00     1  Thursday  "
      ]
     },
     "execution_count": 6,
     "metadata": {},
     "output_type": "execute_result"
    }
   ],
   "source": [
    "dataset = df1\n",
    "dataset[\"Month\"] = pd.to_datetime(df1[\"utc_timestamp\"]).dt.month\n",
    "dataset[\"Year\"] = pd.to_datetime(df1[\"utc_timestamp\"]).dt.year\n",
    "dataset[\"Date\"] = pd.to_datetime(df1[\"utc_timestamp\"]).dt.date\n",
    "dataset[\"Time\"] = pd.to_datetime(df1[\"utc_timestamp\"]).dt.time\n",
    "dataset[\"Week\"] = pd.to_datetime(df1[\"utc_timestamp\"]).dt.isocalendar().week\n",
    "dataset[\"Day\"] = pd.to_datetime(df1[\"utc_timestamp\"]).dt.day_name()\n",
    "dataset = df1.set_index(\"utc_timestamp\")\n",
    "dataset.index = pd.to_datetime(dataset.index)\n",
    "\n",
    "dataset.head(5)"
   ]
  },
  {
   "cell_type": "code",
   "execution_count": 7,
   "metadata": {},
   "outputs": [
    {
     "name": "stdout",
     "output_type": "stream",
     "text": [
      "[2015 2016 2017 2018 2019 2020] \n",
      "\n",
      "Total Number of Unique Year 6 \n",
      "\n"
     ]
    }
   ],
   "source": [
    "print(df1.Year.unique(),\"\\n\")\n",
    "print(\"Total Number of Unique Year\", df1.Year.nunique(), \"\\n\")"
   ]
  },
  {
   "cell_type": "code",
   "execution_count": 8,
   "metadata": {},
   "outputs": [
    {
     "data": {
      "text/plain": [
       "Text(0.5, 1.0, 'Energy Consumption According to Year')"
      ]
     },
     "execution_count": 8,
     "metadata": {},
     "output_type": "execute_result"
    },
    {
     "data": {
      "image/png": "[encoded data removed]",
      "text/plain": [
       "<Figure size 432x288 with 1 Axes>"
      ]
     },
     "metadata": {
      "needs_background": "light"
     },
     "output_type": "display_data"
    }
   ],
   "source": [
    "from matplotlib import style\n",
    "import matplotlib.pyplot as plt\n",
    "import seaborn as sns\n",
    "\n",
    "\n",
    "fig = plt.figure()\n",
    "ax1 = plt.subplot2grid((1,1), (0,0))\n",
    "\n",
    "style.use('ggplot')\n",
    "\n",
    "sns.lineplot(x=dataset[\"Year\"], y=dataset[\"AT_load_actual_entsoe_transparency\"], data=df)\n",
    "sns.set(rc={'figure.figsize':(15,6)})\n",
    "\n",
    "plt.xlabel(\"Year\")\n",
    "plt.ylabel(\"Load (MW)\")\n",
    "plt.grid(True)\n",
    "plt.legend(['Actual Load'])\n",
    "\n",
    "for label in ax1.xaxis.get_ticklabels():\n",
    "    label.set_rotation(90)\n",
    "\n",
    "\n",
    "plt.title(\"Energy Consumption According to Year\")"
   ]
  },
  {
   "cell_type": "code",
   "execution_count": 9,
   "metadata": {},
   "outputs": [
    {
     "name": "stdout",
     "output_type": "stream",
     "text": [
      "Training Set Shape  (50340, 1)\n",
      "Test Set Shape  (100, 7)\n"
     ]
    }
   ],
   "source": [
    "TestData = dataset.tail(100)\n",
    "\n",
    "Training_Set = dataset.iloc[:,0:1]\n",
    "\n",
    "Training_Set = Training_Set[:-60]\n",
    "\n",
    "print(\"Training Set Shape \", Training_Set.shape)\n",
    "\n",
    "print(\"Test Set Shape \", TestData.shape)"
   ]
  },
  {
   "cell_type": "code",
   "execution_count": 10,
   "metadata": {},
   "outputs": [],
   "source": [
    "\n",
    "from sklearn.preprocessing import MinMaxScaler\n",
    "\n",
    "#Normalization \n",
    "# Training_Set = Training_Set.values\n",
    "sc = MinMaxScaler(feature_range=(0, 1))\n",
    "Train = sc.fit_transform(Training_Set)"
   ]
  },
  {
   "cell_type": "code",
   "execution_count": 11,
   "metadata": {},
   "outputs": [
    {
     "name": "stdout",
     "output_type": "stream",
     "text": [
      "(50280, 60, 1)\n",
      "(50280, 1)\n"
     ]
    }
   ],
   "source": [
    "import numpy as np\n",
    "\n",
    "X_Train = []\n",
    "Y_Train = []\n",
    "\n",
    "# Range should be fromm 60 Values to END \n",
    "for i in range(60, Train.shape[0]):\n",
    "    \n",
    "    # X_Train 0-59 \n",
    "    X_Train.append(Train[i-60:i])\n",
    "    \n",
    "    # Y Would be 60 th Value based on past 60 Values \n",
    "    Y_Train.append(Train[i])\n",
    "\n",
    "# Convert into Numpy Array\n",
    "X_Train = np.array(X_Train)\n",
    "Y_Train = np.array(Y_Train)\n",
    "\n",
    "print(X_Train.shape)\n",
    "print(Y_Train.shape)"
   ]
  },
  {
   "cell_type": "code",
   "execution_count": 12,
   "metadata": {},
   "outputs": [
    {
     "data": {
      "text/plain": [
       "(50280, 60, 1)"
      ]
     },
     "execution_count": 12,
     "metadata": {},
     "output_type": "execute_result"
    }
   ],
   "source": [
    "# Shape should be Number of [Datapoints , Steps , 1 )\n",
    "# we convert into 3-d Vector\n",
    "X_Train = np.reshape(X_Train, newshape=(X_Train.shape[0], X_Train.shape[1], 1))\n",
    "X_Train.shape"
   ]
  },
  {
   "cell_type": "code",
   "execution_count": 13,
   "metadata": {},
   "outputs": [],
   "source": [
    "from keras.models import Sequential\n",
    "from keras.layers import LSTM\n",
    "from keras.layers import Dropout, Dense\n",
    "\n",
    "\n",
    "regressor = Sequential()\n",
    "\n",
    "# Adding the first LSTM layer and some Dropout regularisation\n",
    "regressor.add(LSTM(units = 50, return_sequences = True, input_shape = (X_Train.shape[1], 1)))\n",
    "regressor.add(Dropout(0.2))\n",
    "\n",
    "# Adding a second LSTM layer and some Dropout regularisation\n",
    "regressor.add(LSTM(units = 50, return_sequences = True))\n",
    "regressor.add(Dropout(0.2))\n",
    "\n",
    "# Adding a third LSTM layer and some Dropout regularisation\n",
    "regressor.add(LSTM(units = 50, return_sequences = True))\n",
    "regressor.add(Dropout(0.2))\n",
    "\n",
    "# Adding a fourth LSTM layer and some Dropout regularisation\n",
    "regressor.add(LSTM(units = 50))\n",
    "regressor.add(Dropout(0.2))\n",
    "\n",
    "# Adding the output layer\n",
    "regressor.add(Dense(units = 1))\n",
    "\n",
    "# Compiling the RNN\n",
    "regressor.compile(optimizer = 'adam', loss = 'mean_squared_error')"
   ]
  },
  {
   "cell_type": "code",
   "execution_count": 14,
   "metadata": {},
   "outputs": [
    {
     "name": "stdout",
     "output_type": "stream",
     "text": [
      "Epoch 1/10\n",
      "1572/1572 [==============================] - 149s 95ms/step - loss: 0.0100\n",
      "Epoch 2/10\n",
      "1572/1572 [==============================] - 152s 96ms/step - loss: 0.0036\n",
      "Epoch 3/10\n",
      "1572/1572 [==============================] - 153s 97ms/step - loss: 0.0022\n",
      "Epoch 4/10\n",
      "1572/1572 [==============================] - 151s 96ms/step - loss: 0.0014\n",
      "Epoch 5/10\n",
      "1572/1572 [==============================] - 151s 96ms/step - loss: 9.3350e-04\n",
      "Epoch 6/10\n",
      "1572/1572 [==============================] - 150s 96ms/step - loss: 7.3039e-04\n",
      "Epoch 7/10\n",
      "1572/1572 [==============================] - 150s 96ms/step - loss: 6.0934e-04\n",
      "Epoch 8/10\n",
      "1572/1572 [==============================] - 150s 96ms/step - loss: 5.8010e-04\n",
      "Epoch 9/10\n",
      "1572/1572 [==============================] - 151s 96ms/step - loss: 5.3856e-04\n",
      "Epoch 10/10\n",
      "1572/1572 [==============================] - 151s 96ms/step - loss: 5.1353e-04\n"
     ]
    },
    {
     "data": {
      "text/plain": [
       "<tensorflow.python.keras.callbacks.History at 0x23459e638c8>"
      ]
     },
     "execution_count": 14,
     "metadata": {},
     "output_type": "execute_result"
    }
   ],
   "source": [
    "regressor.fit(X_Train, Y_Train, epochs = 10, batch_size=32)"
   ]
  },
  {
   "cell_type": "code",
   "execution_count": 15,
   "metadata": {},
   "outputs": [
    {
     "name": "stdout",
     "output_type": "stream",
     "text": [
      "1572/1572 [==============================] - 47s 30ms/step - loss: 2.5411e-04\n"
     ]
    },
    {
     "data": {
      "text/plain": [
       "0.00025411005481146276"
      ]
     },
     "execution_count": 15,
     "metadata": {},
     "output_type": "execute_result"
    }
   ],
   "source": [
    "loss = regressor.evaluate(X_Train, Y_Train, verbose=1)\n",
    "loss"
   ]
  },
  {
   "cell_type": "code",
   "execution_count": 16,
   "metadata": {},
   "outputs": [
    {
     "data": {
      "text/plain": [
       "0.015940829803101932"
      ]
     },
     "execution_count": 16,
     "metadata": {},
     "output_type": "execute_result"
    }
   ],
   "source": [
    "import math \n",
    "TM_RMSE = math.sqrt(loss)\n",
    "TM_RMSE"
   ]
  },
  {
   "cell_type": "code",
   "execution_count": 17,
   "metadata": {},
   "outputs": [
    {
     "data": {
      "text/html": [
       "<div>\n",
       "<style scoped>\n",
       "    .dataframe tbody tr th:only-of-type {\n",
       "        vertical-align: middle;\n",
       "    }\n",
       "\n",
       "    .dataframe tbody tr th {\n",
       "        vertical-align: top;\n",
       "    }\n",
       "\n",
       "    .dataframe thead th {\n",
       "        text-align: right;\n",
       "    }\n",
       "</style>\n",
       "<table border=\"1\" class=\"dataframe\">\n",
       "  <thead>\n",
       "    <tr style=\"text-align: right;\">\n",
       "      <th></th>\n",
       "      <th>AT_load_actual_entsoe_transparency</th>\n",
       "      <th>Month</th>\n",
       "      <th>Year</th>\n",
       "      <th>Date</th>\n",
       "      <th>Time</th>\n",
       "      <th>Week</th>\n",
       "      <th>Day</th>\n",
       "    </tr>\n",
       "    <tr>\n",
       "      <th>utc_timestamp</th>\n",
       "      <th></th>\n",
       "      <th></th>\n",
       "      <th></th>\n",
       "      <th></th>\n",
       "      <th></th>\n",
       "      <th></th>\n",
       "      <th></th>\n",
       "    </tr>\n",
       "  </thead>\n",
       "  <tbody>\n",
       "    <tr>\n",
       "      <th>2020-09-26 20:00:00+00:00</th>\n",
       "      <td>5648.0</td>\n",
       "      <td>9</td>\n",
       "      <td>2020</td>\n",
       "      <td>2020-09-26</td>\n",
       "      <td>20:00:00</td>\n",
       "      <td>39</td>\n",
       "      <td>Saturday</td>\n",
       "    </tr>\n",
       "    <tr>\n",
       "      <th>2020-09-26 21:00:00+00:00</th>\n",
       "      <td>5245.0</td>\n",
       "      <td>9</td>\n",
       "      <td>2020</td>\n",
       "      <td>2020-09-26</td>\n",
       "      <td>21:00:00</td>\n",
       "      <td>39</td>\n",
       "      <td>Saturday</td>\n",
       "    </tr>\n",
       "  </tbody>\n",
       "</table>\n",
       "</div>"
      ],
      "text/plain": [
       "                           AT_load_actual_entsoe_transparency  Month  Year  \\\n",
       "utc_timestamp                                                                \n",
       "2020-09-26 20:00:00+00:00                              5648.0      9  2020   \n",
       "2020-09-26 21:00:00+00:00                              5245.0      9  2020   \n",
       "\n",
       "                                 Date      Time  Week       Day  \n",
       "utc_timestamp                                                    \n",
       "2020-09-26 20:00:00+00:00  2020-09-26  20:00:00    39  Saturday  \n",
       "2020-09-26 21:00:00+00:00  2020-09-26  21:00:00    39  Saturday  "
      ]
     },
     "execution_count": 17,
     "metadata": {},
     "output_type": "execute_result"
    }
   ],
   "source": [
    "TestData.head(2)"
   ]
  },
  {
   "cell_type": "code",
   "execution_count": 18,
   "metadata": {},
   "outputs": [
    {
     "data": {
      "text/plain": [
       "(100, 7)"
      ]
     },
     "execution_count": 18,
     "metadata": {},
     "output_type": "execute_result"
    }
   ],
   "source": [
    "TestData.shape"
   ]
  },
  {
   "cell_type": "code",
   "execution_count": 19,
   "metadata": {},
   "outputs": [
    {
     "data": {
      "text/plain": [
       "(50400, 7)"
      ]
     },
     "execution_count": 19,
     "metadata": {},
     "output_type": "execute_result"
    }
   ],
   "source": [
    "dataset.shape"
   ]
  },
  {
   "cell_type": "code",
   "execution_count": 20,
   "metadata": {},
   "outputs": [],
   "source": [
    "Df_Total = pd.concat((dataset[[\"AT_load_actual_entsoe_transparency\"]], TestData[[\"AT_load_actual_entsoe_transparency\"]]), axis=0)"
   ]
  },
  {
   "cell_type": "code",
   "execution_count": 21,
   "metadata": {},
   "outputs": [
    {
     "data": {
      "text/plain": [
       "(50500, 1)"
      ]
     },
     "execution_count": 21,
     "metadata": {},
     "output_type": "execute_result"
    }
   ],
   "source": [
    "Df_Total.shape"
   ]
  },
  {
   "cell_type": "code",
   "execution_count": 22,
   "metadata": {},
   "outputs": [
    {
     "data": {
      "text/plain": [
       "(160, 1)"
      ]
     },
     "execution_count": 22,
     "metadata": {},
     "output_type": "execute_result"
    }
   ],
   "source": [
    "inputs = Df_Total[len(Df_Total) - len(TestData) - 60:].values\n",
    "inputs.shape"
   ]
  },
  {
   "cell_type": "code",
   "execution_count": 23,
   "metadata": {},
   "outputs": [
    {
     "name": "stdout",
     "output_type": "stream",
     "text": [
      "4/4 [==============================] - 0s 68ms/step\n"
     ]
    }
   ],
   "source": [
    "inputs = Df_Total[len(Df_Total) - len(TestData) - 60:].values\n",
    "\n",
    "# We need to Reshape\n",
    "inputs = inputs.reshape(-1,1)\n",
    "\n",
    "# Normalize the Dataset\n",
    "inputs = sc.transform(inputs)\n",
    "\n",
    "X_test = []\n",
    "for i in range(60, 160):\n",
    "    X_test.append(inputs[i-60:i])\n",
    "    \n",
    "# Convert into Numpy Array\n",
    "X_test = np.array(X_test)\n",
    "\n",
    "# Reshape before Passing to Network\n",
    "X_test = np.reshape(X_test, (X_test.shape[0], X_test.shape[1], 1))\n",
    "\n",
    "# Pass to Model \n",
    "predicted_load = regressor.predict(X_test, verbose=1)\n",
    "\n",
    "# Do inverse Transformation to get Values \n",
    "predicted_load = sc.inverse_transform(predicted_load)"
   ]
  },
  {
   "cell_type": "code",
   "execution_count": 24,
   "metadata": {},
   "outputs": [],
   "source": [
    "True_MegaWatt = TestData[\"AT_load_actual_entsoe_transparency\"].to_list()\n",
    "Predicted_MegaWatt  = predicted_load\n",
    "dates = TestData.index.to_list()"
   ]
  },
  {
   "cell_type": "code",
   "execution_count": 25,
   "metadata": {},
   "outputs": [],
   "source": [
    "Machine_Df = pd.DataFrame(data={\n",
    "    \"Date\":dates,\n",
    "    \"TrueMegaWatt\": True_MegaWatt,\n",
    "    \"PredictedMeagWatt\":[x[0] for x in Predicted_MegaWatt ]\n",
    "})"
   ]
  },
  {
   "cell_type": "code",
   "execution_count": 26,
   "metadata": {},
   "outputs": [
    {
     "data": {
      "text/html": [
       "<div>\n",
       "<style scoped>\n",
       "    .dataframe tbody tr th:only-of-type {\n",
       "        vertical-align: middle;\n",
       "    }\n",
       "\n",
       "    .dataframe tbody tr th {\n",
       "        vertical-align: top;\n",
       "    }\n",
       "\n",
       "    .dataframe thead th {\n",
       "        text-align: right;\n",
       "    }\n",
       "</style>\n",
       "<table border=\"1\" class=\"dataframe\">\n",
       "  <thead>\n",
       "    <tr style=\"text-align: right;\">\n",
       "      <th></th>\n",
       "      <th>Date</th>\n",
       "      <th>TrueMegaWatt</th>\n",
       "      <th>PredictedMeagWatt</th>\n",
       "    </tr>\n",
       "  </thead>\n",
       "  <tbody>\n",
       "    <tr>\n",
       "      <th>0</th>\n",
       "      <td>2020-09-26 20:00:00+00:00</td>\n",
       "      <td>5648.0</td>\n",
       "      <td>5296.599121</td>\n",
       "    </tr>\n",
       "    <tr>\n",
       "      <th>1</th>\n",
       "      <td>2020-09-26 21:00:00+00:00</td>\n",
       "      <td>5245.0</td>\n",
       "      <td>5845.702637</td>\n",
       "    </tr>\n",
       "    <tr>\n",
       "      <th>2</th>\n",
       "      <td>2020-09-26 22:00:00+00:00</td>\n",
       "      <td>4981.0</td>\n",
       "      <td>5336.138672</td>\n",
       "    </tr>\n",
       "    <tr>\n",
       "      <th>3</th>\n",
       "      <td>2020-09-26 23:00:00+00:00</td>\n",
       "      <td>4663.0</td>\n",
       "      <td>4992.698730</td>\n",
       "    </tr>\n",
       "    <tr>\n",
       "      <th>4</th>\n",
       "      <td>2020-09-27 00:00:00+00:00</td>\n",
       "      <td>4623.0</td>\n",
       "      <td>4817.530273</td>\n",
       "    </tr>\n",
       "    <tr>\n",
       "      <th>...</th>\n",
       "      <td>...</td>\n",
       "      <td>...</td>\n",
       "      <td>...</td>\n",
       "    </tr>\n",
       "    <tr>\n",
       "      <th>95</th>\n",
       "      <td>2020-09-30 19:00:00+00:00</td>\n",
       "      <td>6661.0</td>\n",
       "      <td>6735.918945</td>\n",
       "    </tr>\n",
       "    <tr>\n",
       "      <th>96</th>\n",
       "      <td>2020-09-30 20:00:00+00:00</td>\n",
       "      <td>6336.0</td>\n",
       "      <td>6254.323730</td>\n",
       "    </tr>\n",
       "    <tr>\n",
       "      <th>97</th>\n",
       "      <td>2020-09-30 21:00:00+00:00</td>\n",
       "      <td>5932.0</td>\n",
       "      <td>5983.879395</td>\n",
       "    </tr>\n",
       "    <tr>\n",
       "      <th>98</th>\n",
       "      <td>2020-09-30 22:00:00+00:00</td>\n",
       "      <td>5628.0</td>\n",
       "      <td>5646.803223</td>\n",
       "    </tr>\n",
       "    <tr>\n",
       "      <th>99</th>\n",
       "      <td>2020-09-30 23:00:00+00:00</td>\n",
       "      <td>5395.0</td>\n",
       "      <td>5376.890625</td>\n",
       "    </tr>\n",
       "  </tbody>\n",
       "</table>\n",
       "<p>100 rows × 3 columns</p>\n",
       "</div>"
      ],
      "text/plain": [
       "                        Date  TrueMegaWatt  PredictedMeagWatt\n",
       "0  2020-09-26 20:00:00+00:00        5648.0        5296.599121\n",
       "1  2020-09-26 21:00:00+00:00        5245.0        5845.702637\n",
       "2  2020-09-26 22:00:00+00:00        4981.0        5336.138672\n",
       "3  2020-09-26 23:00:00+00:00        4663.0        4992.698730\n",
       "4  2020-09-27 00:00:00+00:00        4623.0        4817.530273\n",
       "..                       ...           ...                ...\n",
       "95 2020-09-30 19:00:00+00:00        6661.0        6735.918945\n",
       "96 2020-09-30 20:00:00+00:00        6336.0        6254.323730\n",
       "97 2020-09-30 21:00:00+00:00        5932.0        5983.879395\n",
       "98 2020-09-30 22:00:00+00:00        5628.0        5646.803223\n",
       "99 2020-09-30 23:00:00+00:00        5395.0        5376.890625\n",
       "\n",
       "[100 rows x 3 columns]"
      ]
     },
     "execution_count": 26,
     "metadata": {},
     "output_type": "execute_result"
    }
   ],
   "source": [
    "Machine_Df"
   ]
  },
  {
   "cell_type": "code",
   "execution_count": 27,
   "metadata": {},
   "outputs": [
    {
     "data": {
      "image/png": "[encoded data removed]",
      "text/plain": [
       "<Figure size 1080x432 with 1 Axes>"
      ]
     },
     "metadata": {},
     "output_type": "display_data"
    }
   ],
   "source": [
    "True_MegaWatt = TestData[\"AT_load_actual_entsoe_transparency\"].to_list()\n",
    "Predicted_MegaWatt  = [x[0] for x in Predicted_MegaWatt ]\n",
    "dates = TestData.index.to_list()\n",
    "\n",
    "\n",
    "\n",
    "fig = plt.figure()\n",
    "\n",
    "ax1= fig.add_subplot(111)\n",
    "\n",
    "x = dates\n",
    "y = True_MegaWatt\n",
    "\n",
    "y1 = Predicted_MegaWatt\n",
    "\n",
    "plt.plot(x,y, color=\"blue\", label='Actual Load')\n",
    "plt.plot(x,y1, color=\"red\", label='Predicted Load')\n",
    "# beautify the x-labels\n",
    "plt.gcf().autofmt_xdate()\n",
    "plt.xlabel('Hour')\n",
    "plt.ylabel(\"Load (MW)\")\n",
    "plt.title(\"Machine Learned the Pattern Predicting Future Values \")\n",
    "plt.legend()\n",
    "plt.show()"
   ]
  },
  {
   "cell_type": "code",
   "execution_count": null,
   "metadata": {},
   "outputs": [],
   "source": []
  },
  {
   "cell_type": "code",
   "execution_count": 28,
   "metadata": {},
   "outputs": [
    {
     "name": "stdout",
     "output_type": "stream",
     "text": [
      "Training set has 45360 samples.\n",
      "Testing set has 5040 samples.\n"
     ]
    }
   ],
   "source": [
    "from sklearn.linear_model import LinearRegression\n",
    "from sklearn.model_selection import train_test_split\n",
    "from sklearn.metrics import mean_squared_error\n",
    "from math import sqrt\n",
    "\n",
    "data = pd.read_csv(\"rawdatasimple1.csv\")\n",
    "data = data.dropna()\n",
    "dates = pd.DataFrame(np.arange(len(data)))\n",
    "adj_closes = data['AT_load_actual_entsoe_transparency']\n",
    "X_train, X_test, y_train, y_test = train_test_split(dates, adj_closes, test_size = 0.1, random_state = 0)\n",
    "\n",
    "# Show the results of the split\n",
    "print(\"Training set has {} samples.\".format(X_train.shape[0]))\n",
    "print(\"Testing set has {} samples.\".format(X_test.shape[0]))\n",
    "\n",
    "# Build Linear Regression model\n",
    "regr = LinearRegression()\n",
    "regr.fit(X_train[:int(len(data)*0.9)], y_train[:int(len(data)*0.9)])\n",
    "\n",
    "# Result (Accuracy score MSE and RMSE)\n",
    "TM_MSE = np.mean((regr.predict(X_test) - y_test) ** 2)\n",
    "TM_RMSE = sqrt(TM_MSE)"
   ]
  },
  {
   "cell_type": "code",
   "execution_count": 29,
   "metadata": {},
   "outputs": [
    {
     "data": {
      "text/plain": [
       "2013116.4089014474"
      ]
     },
     "execution_count": 29,
     "metadata": {},
     "output_type": "execute_result"
    }
   ],
   "source": [
    "TM_MSE"
   ]
  },
  {
   "cell_type": "code",
   "execution_count": 30,
   "metadata": {},
   "outputs": [
    {
     "data": {
      "text/plain": [
       "1418.84333486874"
      ]
     },
     "execution_count": 30,
     "metadata": {},
     "output_type": "execute_result"
    }
   ],
   "source": [
    "TM_RMSE"
   ]
  },
  {
   "cell_type": "code",
   "execution_count": null,
   "metadata": {},
   "outputs": [],
   "source": []
  }
 ],
 "metadata": {
  "kernelspec": {
   "display_name": "Python 3",
   "language": "python",
   "name": "python3"
  },
  "language_info": {
   "codemirror_mode": {
    "name": "ipython",
    "version": 3
   },
   "file_extension": ".py",
   "mimetype": "text/x-python",
   "name": "python",
   "nbconvert_exporter": "python",
   "pygments_lexer": "ipython3",
   "version": "3.7.9"
  }
 },
 "nbformat": 4,
 "nbformat_minor": 4
}
